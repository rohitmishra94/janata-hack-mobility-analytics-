{
 "cells": [
  {
   "cell_type": "code",
   "execution_count": 86,
   "metadata": {
    "colab": {},
    "colab_type": "code",
    "id": "Rd3ZYQiaoKla"
   },
   "outputs": [],
   "source": [
    "import numpy as np\n",
    "import pandas as pd\n",
    "from os import getcwd"
   ]
  },
  {
   "cell_type": "code",
   "execution_count": 87,
   "metadata": {
    "colab": {},
    "colab_type": "code",
    "id": "zxTpY08JrWbp"
   },
   "outputs": [],
   "source": [
    "from sklearn.preprocessing import StandardScaler\n",
    "import seaborn as sns"
   ]
  },
  {
   "cell_type": "code",
   "execution_count": 88,
   "metadata": {
    "colab": {
     "base_uri": "https://localhost:8080/",
     "height": 435
    },
    "colab_type": "code",
    "id": "DjKHXS-eoKlh",
    "outputId": "94cc2f5e-f6f8-471e-ff84-4ad2692e04d2"
   },
   "outputs": [
    {
     "data": {
      "text/plain": [
       "(131662, 14)"
      ]
     },
     "execution_count": 88,
     "metadata": {},
     "output_type": "execute_result"
    }
   ],
   "source": [
    "data_train = pd.read_csv(f'{getcwd()}/train_Wc8LBpr.csv')\n",
    "data_test = pd.read_csv(f'{getcwd()}/test_VsU9xXK.csv')\n",
    "data_test.shape\n",
    "data_train.shape"
   ]
  },
  {
   "cell_type": "code",
   "execution_count": 109,
   "metadata": {
    "colab": {},
    "colab_type": "code",
    "id": "p0cDDOBXoKlx"
   },
   "outputs": [],
   "source": [
    "train = pd.read_csv(f'{getcwd()}/train_Wc8LBpr.csv')\n",
    "\n"
   ]
  },
  {
   "cell_type": "code",
   "execution_count": 110,
   "metadata": {},
   "outputs": [],
   "source": [
    "targets=train['Surge_Pricing_Type'].copy()"
   ]
  },
  {
   "cell_type": "code",
   "execution_count": 111,
   "metadata": {},
   "outputs": [],
   "source": [
    "train=train.drop(columns=['Surge_Pricing_Type'])"
   ]
  },
  {
   "cell_type": "code",
   "execution_count": 112,
   "metadata": {},
   "outputs": [],
   "source": [
    "train=train.drop(columns=['Trip_ID'])"
   ]
  },
  {
   "cell_type": "code",
   "execution_count": 113,
   "metadata": {},
   "outputs": [
    {
     "name": "stdout",
     "output_type": "stream",
     "text": [
      "<class 'pandas.core.frame.DataFrame'>\n",
      "RangeIndex: 131662 entries, 0 to 131661\n",
      "Data columns (total 12 columns):\n",
      " #   Column                       Non-Null Count   Dtype  \n",
      "---  ------                       --------------   -----  \n",
      " 0   Trip_Distance                131662 non-null  float64\n",
      " 1   Type_of_Cab                  111452 non-null  object \n",
      " 2   Customer_Since_Months        125742 non-null  float64\n",
      " 3   Life_Style_Index             111469 non-null  float64\n",
      " 4   Confidence_Life_Style_Index  111469 non-null  object \n",
      " 5   Destination_Type             131662 non-null  object \n",
      " 6   Customer_Rating              131662 non-null  float64\n",
      " 7   Cancellation_Last_1Month     131662 non-null  int64  \n",
      " 8   Var1                         60632 non-null   float64\n",
      " 9   Var2                         131662 non-null  int64  \n",
      " 10  Var3                         131662 non-null  int64  \n",
      " 11  Gender                       131662 non-null  object \n",
      "dtypes: float64(5), int64(3), object(4)\n",
      "memory usage: 12.1+ MB\n"
     ]
    }
   ],
   "source": [
    "train.info()"
   ]
  },
  {
   "cell_type": "code",
   "execution_count": 114,
   "metadata": {
    "colab": {
     "base_uri": "https://localhost:8080/",
     "height": 172
    },
    "colab_type": "code",
    "id": "q4BI58jCoKmC",
    "outputId": "cb161d5b-f613-4197-f66b-b0a71c8d580c"
   },
   "outputs": [
    {
     "data": {
      "text/plain": [
       "Trip_Distance                      0\n",
       "Type_of_Cab                    20210\n",
       "Customer_Since_Months           5920\n",
       "Life_Style_Index               20193\n",
       "Confidence_Life_Style_Index    20193\n",
       "Destination_Type                   0\n",
       "Customer_Rating                    0\n",
       "Cancellation_Last_1Month           0\n",
       "Var1                           71030\n",
       "Var2                               0\n",
       "Var3                               0\n",
       "Gender                             0\n",
       "dtype: int64"
      ]
     },
     "execution_count": 114,
     "metadata": {},
     "output_type": "execute_result"
    }
   ],
   "source": [
    "# to find null values\n",
    "train.isnull().sum()"
   ]
  },
  {
   "cell_type": "code",
   "execution_count": 115,
   "metadata": {},
   "outputs": [
    {
     "data": {
      "text/plain": [
       "<matplotlib.axes._subplots.AxesSubplot at 0x1db489557c8>"
      ]
     },
     "execution_count": 115,
     "metadata": {},
     "output_type": "execute_result"
    },
    {
     "data": {
      "image/png": "[encoded data removed]",
      "text/plain": [
       "<Figure size 432x288 with 1 Axes>"
      ]
     },
     "metadata": {
      "needs_background": "light"
     },
     "output_type": "display_data"
    }
   ],
   "source": [
    "sns.distplot(train['Var1'])"
   ]
  },
  {
   "cell_type": "code",
   "execution_count": 116,
   "metadata": {},
   "outputs": [
    {
     "data": {
      "text/plain": [
       "count    60632.000000\n",
       "mean        64.202698\n",
       "std         21.820447\n",
       "min         30.000000\n",
       "25%         46.000000\n",
       "50%         61.000000\n",
       "75%         80.000000\n",
       "max        210.000000\n",
       "Name: Var1, dtype: float64"
      ]
     },
     "execution_count": 116,
     "metadata": {},
     "output_type": "execute_result"
    }
   ],
   "source": [
    "train['Var1'].describe()"
   ]
  },
  {
   "cell_type": "code",
   "execution_count": 117,
   "metadata": {},
   "outputs": [
    {
     "name": "stderr",
     "output_type": "stream",
     "text": [
      "C:\\Users\\jarvis\\anaconda3\\lib\\site-packages\\ipykernel_launcher.py:2: SettingWithCopyWarning: \n",
      "A value is trying to be set on a copy of a slice from a DataFrame\n",
      "\n",
      "See the caveats in the documentation: https://pandas.pydata.org/pandas-docs/stable/user_guide/indexing.html#returning-a-view-versus-a-copy\n",
      "  \n"
     ]
    }
   ],
   "source": [
    "x=np.random.randint(30,211,(71030,))\n",
    "train['Var1'][train['Var1'].isnull()]=x"
   ]
  },
  {
   "cell_type": "code",
   "execution_count": null,
   "metadata": {},
   "outputs": [],
   "source": []
  },
  {
   "cell_type": "code",
   "execution_count": 118,
   "metadata": {},
   "outputs": [
    {
     "data": {
      "text/plain": [
       "Series([], Name: Var1, dtype: float64)"
      ]
     },
     "execution_count": 118,
     "metadata": {},
     "output_type": "execute_result"
    }
   ],
   "source": [
    "train['Var1'][train['Var1'].isnull()]"
   ]
  },
  {
   "cell_type": "code",
   "execution_count": 119,
   "metadata": {},
   "outputs": [],
   "source": [
    "train['Var1']=np.log(train['Var1'])\n",
    "train['Var2']=np.log(train['Var2'])\n",
    "train['Var3']=np.log(train['Var3'])"
   ]
  },
  {
   "cell_type": "code",
   "execution_count": null,
   "metadata": {},
   "outputs": [],
   "source": []
  },
  {
   "cell_type": "code",
   "execution_count": 120,
   "metadata": {},
   "outputs": [],
   "source": [
    "train['Type_of_Cab'] = train['Type_of_Cab'].map({'A':0,'B':1,'C':2,'D':3,'E':4})\n",
    "train['Confidence_Life_Style_Index'] = train['Confidence_Life_Style_Index'].map({'A':0,'B':1,'C':2})\n",
    "train['Destination_Type'] = train['Destination_Type'].map({'A':0,'B':1,'C':2,'D':3,'E':4,'F':5,'G':6,'H':7,'I':8,'J':9,'K':10,'L':11,'M':12,'N':13})\n",
    "train['Gender'] = train['Gender'].map({'Male':1,'Female':0})"
   ]
  },
  {
   "cell_type": "code",
   "execution_count": 121,
   "metadata": {},
   "outputs": [
    {
     "name": "stdout",
     "output_type": "stream",
     "text": [
      "<class 'pandas.core.frame.DataFrame'>\n",
      "RangeIndex: 131662 entries, 0 to 131661\n",
      "Data columns (total 12 columns):\n",
      " #   Column                       Non-Null Count   Dtype  \n",
      "---  ------                       --------------   -----  \n",
      " 0   Trip_Distance                131662 non-null  float64\n",
      " 1   Type_of_Cab                  111452 non-null  float64\n",
      " 2   Customer_Since_Months        125742 non-null  float64\n",
      " 3   Life_Style_Index             111469 non-null  float64\n",
      " 4   Confidence_Life_Style_Index  111469 non-null  float64\n",
      " 5   Destination_Type             131662 non-null  int64  \n",
      " 6   Customer_Rating              131662 non-null  float64\n",
      " 7   Cancellation_Last_1Month     131662 non-null  int64  \n",
      " 8   Var1                         131662 non-null  float64\n",
      " 9   Var2                         131662 non-null  float64\n",
      " 10  Var3                         131662 non-null  float64\n",
      " 11  Gender                       131662 non-null  int64  \n",
      "dtypes: float64(9), int64(3)\n",
      "memory usage: 12.1 MB\n"
     ]
    }
   ],
   "source": [
    "train=train.round(2)\n",
    "train.info()\n",
    "\n"
   ]
  },
  {
   "cell_type": "code",
   "execution_count": 122,
   "metadata": {},
   "outputs": [
    {
     "data": {
      "text/html": [
       "<div>\n",
       "<style scoped>\n",
       "    .dataframe tbody tr th:only-of-type {\n",
       "        vertical-align: middle;\n",
       "    }\n",
       "\n",
       "    .dataframe tbody tr th {\n",
       "        vertical-align: top;\n",
       "    }\n",
       "\n",
       "    .dataframe thead th {\n",
       "        text-align: right;\n",
       "    }\n",
       "</style>\n",
       "<table border=\"1\" class=\"dataframe\">\n",
       "  <thead>\n",
       "    <tr style=\"text-align: right;\">\n",
       "      <th></th>\n",
       "      <th>Trip_Distance</th>\n",
       "      <th>Type_of_Cab</th>\n",
       "      <th>Customer_Since_Months</th>\n",
       "      <th>Life_Style_Index</th>\n",
       "      <th>Confidence_Life_Style_Index</th>\n",
       "      <th>Destination_Type</th>\n",
       "      <th>Customer_Rating</th>\n",
       "      <th>Cancellation_Last_1Month</th>\n",
       "      <th>Var1</th>\n",
       "      <th>Var2</th>\n",
       "      <th>Var3</th>\n",
       "      <th>Gender</th>\n",
       "    </tr>\n",
       "  </thead>\n",
       "  <tbody>\n",
       "    <tr>\n",
       "      <th>0</th>\n",
       "      <td>6.77</td>\n",
       "      <td>1.0</td>\n",
       "      <td>1.0</td>\n",
       "      <td>2.43</td>\n",
       "      <td>0.0</td>\n",
       "      <td>0</td>\n",
       "      <td>3.90</td>\n",
       "      <td>0</td>\n",
       "      <td>3.69</td>\n",
       "      <td>3.83</td>\n",
       "      <td>4.09</td>\n",
       "      <td>0</td>\n",
       "    </tr>\n",
       "    <tr>\n",
       "      <th>1</th>\n",
       "      <td>29.47</td>\n",
       "      <td>1.0</td>\n",
       "      <td>10.0</td>\n",
       "      <td>2.78</td>\n",
       "      <td>1.0</td>\n",
       "      <td>0</td>\n",
       "      <td>3.45</td>\n",
       "      <td>0</td>\n",
       "      <td>3.64</td>\n",
       "      <td>4.03</td>\n",
       "      <td>4.36</td>\n",
       "      <td>1</td>\n",
       "    </tr>\n",
       "    <tr>\n",
       "      <th>2</th>\n",
       "      <td>41.58</td>\n",
       "      <td>NaN</td>\n",
       "      <td>10.0</td>\n",
       "      <td>NaN</td>\n",
       "      <td>NaN</td>\n",
       "      <td>4</td>\n",
       "      <td>3.50</td>\n",
       "      <td>2</td>\n",
       "      <td>4.20</td>\n",
       "      <td>4.03</td>\n",
       "      <td>4.34</td>\n",
       "      <td>1</td>\n",
       "    </tr>\n",
       "    <tr>\n",
       "      <th>3</th>\n",
       "      <td>61.56</td>\n",
       "      <td>2.0</td>\n",
       "      <td>10.0</td>\n",
       "      <td>NaN</td>\n",
       "      <td>NaN</td>\n",
       "      <td>0</td>\n",
       "      <td>3.45</td>\n",
       "      <td>0</td>\n",
       "      <td>3.71</td>\n",
       "      <td>3.95</td>\n",
       "      <td>4.30</td>\n",
       "      <td>1</td>\n",
       "    </tr>\n",
       "    <tr>\n",
       "      <th>4</th>\n",
       "      <td>54.95</td>\n",
       "      <td>2.0</td>\n",
       "      <td>10.0</td>\n",
       "      <td>3.03</td>\n",
       "      <td>1.0</td>\n",
       "      <td>0</td>\n",
       "      <td>3.40</td>\n",
       "      <td>4</td>\n",
       "      <td>3.93</td>\n",
       "      <td>3.89</td>\n",
       "      <td>4.62</td>\n",
       "      <td>1</td>\n",
       "    </tr>\n",
       "    <tr>\n",
       "      <th>...</th>\n",
       "      <td>...</td>\n",
       "      <td>...</td>\n",
       "      <td>...</td>\n",
       "      <td>...</td>\n",
       "      <td>...</td>\n",
       "      <td>...</td>\n",
       "      <td>...</td>\n",
       "      <td>...</td>\n",
       "      <td>...</td>\n",
       "      <td>...</td>\n",
       "      <td>...</td>\n",
       "      <td>...</td>\n",
       "    </tr>\n",
       "    <tr>\n",
       "      <th>131657</th>\n",
       "      <td>11.72</td>\n",
       "      <td>3.0</td>\n",
       "      <td>1.0</td>\n",
       "      <td>2.74</td>\n",
       "      <td>0.0</td>\n",
       "      <td>0</td>\n",
       "      <td>3.28</td>\n",
       "      <td>0</td>\n",
       "      <td>4.11</td>\n",
       "      <td>3.85</td>\n",
       "      <td>4.33</td>\n",
       "      <td>1</td>\n",
       "    </tr>\n",
       "    <tr>\n",
       "      <th>131658</th>\n",
       "      <td>74.81</td>\n",
       "      <td>2.0</td>\n",
       "      <td>7.0</td>\n",
       "      <td>2.81</td>\n",
       "      <td>2.0</td>\n",
       "      <td>0</td>\n",
       "      <td>0.44</td>\n",
       "      <td>0</td>\n",
       "      <td>5.13</td>\n",
       "      <td>4.14</td>\n",
       "      <td>4.48</td>\n",
       "      <td>1</td>\n",
       "    </tr>\n",
       "    <tr>\n",
       "      <th>131659</th>\n",
       "      <td>40.17</td>\n",
       "      <td>2.0</td>\n",
       "      <td>10.0</td>\n",
       "      <td>3.00</td>\n",
       "      <td>1.0</td>\n",
       "      <td>0</td>\n",
       "      <td>3.34</td>\n",
       "      <td>0</td>\n",
       "      <td>3.74</td>\n",
       "      <td>3.87</td>\n",
       "      <td>4.32</td>\n",
       "      <td>0</td>\n",
       "    </tr>\n",
       "    <tr>\n",
       "      <th>131660</th>\n",
       "      <td>46.88</td>\n",
       "      <td>1.0</td>\n",
       "      <td>4.0</td>\n",
       "      <td>3.05</td>\n",
       "      <td>0.0</td>\n",
       "      <td>1</td>\n",
       "      <td>4.16</td>\n",
       "      <td>1</td>\n",
       "      <td>3.85</td>\n",
       "      <td>3.99</td>\n",
       "      <td>4.37</td>\n",
       "      <td>1</td>\n",
       "    </tr>\n",
       "    <tr>\n",
       "      <th>131661</th>\n",
       "      <td>31.96</td>\n",
       "      <td>0.0</td>\n",
       "      <td>7.0</td>\n",
       "      <td>2.94</td>\n",
       "      <td>0.0</td>\n",
       "      <td>4</td>\n",
       "      <td>2.64</td>\n",
       "      <td>1</td>\n",
       "      <td>4.62</td>\n",
       "      <td>4.04</td>\n",
       "      <td>4.44</td>\n",
       "      <td>1</td>\n",
       "    </tr>\n",
       "  </tbody>\n",
       "</table>\n",
       "<p>131662 rows × 12 columns</p>\n",
       "</div>"
      ],
      "text/plain": [
       "        Trip_Distance  Type_of_Cab  Customer_Since_Months  Life_Style_Index  \\\n",
       "0                6.77          1.0                    1.0              2.43   \n",
       "1               29.47          1.0                   10.0              2.78   \n",
       "2               41.58          NaN                   10.0               NaN   \n",
       "3               61.56          2.0                   10.0               NaN   \n",
       "4               54.95          2.0                   10.0              3.03   \n",
       "...               ...          ...                    ...               ...   \n",
       "131657          11.72          3.0                    1.0              2.74   \n",
       "131658          74.81          2.0                    7.0              2.81   \n",
       "131659          40.17          2.0                   10.0              3.00   \n",
       "131660          46.88          1.0                    4.0              3.05   \n",
       "131661          31.96          0.0                    7.0              2.94   \n",
       "\n",
       "        Confidence_Life_Style_Index  Destination_Type  Customer_Rating  \\\n",
       "0                               0.0                 0             3.90   \n",
       "1                               1.0                 0             3.45   \n",
       "2                               NaN                 4             3.50   \n",
       "3                               NaN                 0             3.45   \n",
       "4                               1.0                 0             3.40   \n",
       "...                             ...               ...              ...   \n",
       "131657                          0.0                 0             3.28   \n",
       "131658                          2.0                 0             0.44   \n",
       "131659                          1.0                 0             3.34   \n",
       "131660                          0.0                 1             4.16   \n",
       "131661                          0.0                 4             2.64   \n",
       "\n",
       "        Cancellation_Last_1Month  Var1  Var2  Var3  Gender  \n",
       "0                              0  3.69  3.83  4.09       0  \n",
       "1                              0  3.64  4.03  4.36       1  \n",
       "2                              2  4.20  4.03  4.34       1  \n",
       "3                              0  3.71  3.95  4.30       1  \n",
       "4                              4  3.93  3.89  4.62       1  \n",
       "...                          ...   ...   ...   ...     ...  \n",
       "131657                         0  4.11  3.85  4.33       1  \n",
       "131658                         0  5.13  4.14  4.48       1  \n",
       "131659                         0  3.74  3.87  4.32       0  \n",
       "131660                         1  3.85  3.99  4.37       1  \n",
       "131661                         1  4.62  4.04  4.44       1  \n",
       "\n",
       "[131662 rows x 12 columns]"
      ]
     },
     "execution_count": 122,
     "metadata": {},
     "output_type": "execute_result"
    }
   ],
   "source": [
    "train"
   ]
  },
  {
   "cell_type": "code",
   "execution_count": 123,
   "metadata": {},
   "outputs": [
    {
     "data": {
      "text/plain": [
       "<matplotlib.axes._subplots.AxesSubplot at 0x1db49798788>"
      ]
     },
     "execution_count": 123,
     "metadata": {},
     "output_type": "execute_result"
    },
    {
     "data": {
      "image/png": "[encoded data removed]",
      "text/plain": [
       "<Figure size 432x288 with 1 Axes>"
      ]
     },
     "metadata": {
      "needs_background": "light"
     },
     "output_type": "display_data"
    }
   ],
   "source": [
    "sns.countplot(train['Confidence_Life_Style_Index'])"
   ]
  },
  {
   "cell_type": "code",
   "execution_count": 124,
   "metadata": {},
   "outputs": [
    {
     "data": {
      "text/plain": [
       "<matplotlib.axes._subplots.AxesSubplot at 0x1db497e30c8>"
      ]
     },
     "execution_count": 124,
     "metadata": {},
     "output_type": "execute_result"
    },
    {
     "data": {
      "image/png": "[encoded data removed]",
      "text/plain": [
       "<Figure size 432x288 with 1 Axes>"
      ]
     },
     "metadata": {
      "needs_background": "light"
     },
     "output_type": "display_data"
    }
   ],
   "source": [
    "sns.countplot(train['Type_of_Cab'])"
   ]
  },
  {
   "cell_type": "code",
   "execution_count": 129,
   "metadata": {},
   "outputs": [
    {
     "data": {
      "text/plain": [
       "<matplotlib.axes._subplots.AxesSubplot at 0x1db4a32db88>"
      ]
     },
     "execution_count": 129,
     "metadata": {},
     "output_type": "execute_result"
    },
    {
     "data": {
      "image/png": "[encoded data removed]",
      "text/plain": [
       "<Figure size 432x288 with 1 Axes>"
      ]
     },
     "metadata": {
      "needs_background": "light"
     },
     "output_type": "display_data"
    }
   ],
   "source": [
    "sns.distplot(train['Life_Style_Index'])"
   ]
  },
  {
   "cell_type": "code",
   "execution_count": 49,
   "metadata": {},
   "outputs": [
    {
     "data": {
      "text/plain": [
       "count    111469.000000\n",
       "mean          2.802048\n",
       "std           0.225822\n",
       "min           1.600000\n",
       "25%           2.650000\n",
       "50%           2.800000\n",
       "75%           2.950000\n",
       "max           4.880000\n",
       "Name: Life_Style_Index, dtype: float64"
      ]
     },
     "execution_count": 49,
     "metadata": {},
     "output_type": "execute_result"
    }
   ],
   "source": [
    "train['Life_Style_Index'].describe()"
   ]
  },
  {
   "cell_type": "code",
   "execution_count": 126,
   "metadata": {},
   "outputs": [
    {
     "name": "stderr",
     "output_type": "stream",
     "text": [
      "C:\\Users\\jarvis\\anaconda3\\lib\\site-packages\\ipykernel_launcher.py:2: SettingWithCopyWarning: \n",
      "A value is trying to be set on a copy of a slice from a DataFrame\n",
      "\n",
      "See the caveats in the documentation: https://pandas.pydata.org/pandas-docs/stable/user_guide/indexing.html#returning-a-view-versus-a-copy\n",
      "  \n"
     ]
    }
   ],
   "source": [
    "x=np.random.normal(2.8,0.23,20193)\n",
    "train['Life_Style_Index'][train['Life_Style_Index'].isnull()]=x"
   ]
  },
  {
   "cell_type": "code",
   "execution_count": 128,
   "metadata": {},
   "outputs": [],
   "source": [
    "train['Life_Style_Index']=np.log(train['Life_Style_Index'])"
   ]
  },
  {
   "cell_type": "code",
   "execution_count": 130,
   "metadata": {},
   "outputs": [],
   "source": [
    "train['Confidence_Life_Style_Index']=train['Confidence_Life_Style_Index'].fillna(1)"
   ]
  },
  {
   "cell_type": "code",
   "execution_count": 131,
   "metadata": {},
   "outputs": [],
   "source": [
    "train['Type_of_Cab']=train['Type_of_Cab'].fillna(1.7)"
   ]
  },
  {
   "cell_type": "code",
   "execution_count": 132,
   "metadata": {},
   "outputs": [],
   "source": [
    "train['Customer_Since_Months']=train['Customer_Since_Months'].fillna(6.0)"
   ]
  },
  {
   "cell_type": "code",
   "execution_count": 133,
   "metadata": {},
   "outputs": [
    {
     "name": "stdout",
     "output_type": "stream",
     "text": [
      "<class 'pandas.core.frame.DataFrame'>\n",
      "RangeIndex: 131662 entries, 0 to 131661\n",
      "Data columns (total 12 columns):\n",
      " #   Column                       Non-Null Count   Dtype  \n",
      "---  ------                       --------------   -----  \n",
      " 0   Trip_Distance                131662 non-null  float64\n",
      " 1   Type_of_Cab                  131662 non-null  float64\n",
      " 2   Customer_Since_Months        131662 non-null  float64\n",
      " 3   Life_Style_Index             131662 non-null  float64\n",
      " 4   Confidence_Life_Style_Index  131662 non-null  float64\n",
      " 5   Destination_Type             131662 non-null  int64  \n",
      " 6   Customer_Rating              131662 non-null  float64\n",
      " 7   Cancellation_Last_1Month     131662 non-null  int64  \n",
      " 8   Var1                         131662 non-null  float64\n",
      " 9   Var2                         131662 non-null  float64\n",
      " 10  Var3                         131662 non-null  float64\n",
      " 11  Gender                       131662 non-null  int64  \n",
      "dtypes: float64(9), int64(3)\n",
      "memory usage: 12.1 MB\n"
     ]
    }
   ],
   "source": [
    "train.info()"
   ]
  },
  {
   "cell_type": "code",
   "execution_count": 151,
   "metadata": {},
   "outputs": [],
   "source": [
    "test = pd.read_csv(f'{getcwd()}/test_VsU9xXK.csv')"
   ]
  },
  {
   "cell_type": "code",
   "execution_count": 152,
   "metadata": {},
   "outputs": [
    {
     "name": "stdout",
     "output_type": "stream",
     "text": [
      "<class 'pandas.core.frame.DataFrame'>\n",
      "RangeIndex: 87395 entries, 0 to 87394\n",
      "Data columns (total 13 columns):\n",
      " #   Column                       Non-Null Count  Dtype  \n",
      "---  ------                       --------------  -----  \n",
      " 0   Trip_ID                      87395 non-null  object \n",
      " 1   Trip_Distance                87395 non-null  float64\n",
      " 2   Type_of_Cab                  74237 non-null  object \n",
      " 3   Customer_Since_Months        83429 non-null  float64\n",
      " 4   Life_Style_Index             74068 non-null  float64\n",
      " 5   Confidence_Life_Style_Index  74068 non-null  object \n",
      " 6   Destination_Type             87395 non-null  object \n",
      " 7   Customer_Rating              87395 non-null  float64\n",
      " 8   Cancellation_Last_1Month     87395 non-null  int64  \n",
      " 9   Var1                         40606 non-null  float64\n",
      " 10  Var2                         87395 non-null  int64  \n",
      " 11  Var3                         87395 non-null  int64  \n",
      " 12  Gender                       87395 non-null  object \n",
      "dtypes: float64(5), int64(3), object(5)\n",
      "memory usage: 8.7+ MB\n"
     ]
    }
   ],
   "source": [
    "test.info()"
   ]
  },
  {
   "cell_type": "code",
   "execution_count": 153,
   "metadata": {},
   "outputs": [
    {
     "data": {
      "text/plain": [
       "Trip_ID                            0\n",
       "Trip_Distance                      0\n",
       "Type_of_Cab                    13158\n",
       "Customer_Since_Months           3966\n",
       "Life_Style_Index               13327\n",
       "Confidence_Life_Style_Index    13327\n",
       "Destination_Type                   0\n",
       "Customer_Rating                    0\n",
       "Cancellation_Last_1Month           0\n",
       "Var1                           46789\n",
       "Var2                               0\n",
       "Var3                               0\n",
       "Gender                             0\n",
       "dtype: int64"
      ]
     },
     "execution_count": 153,
     "metadata": {},
     "output_type": "execute_result"
    }
   ],
   "source": [
    "test.isnull().sum()"
   ]
  },
  {
   "cell_type": "code",
   "execution_count": 154,
   "metadata": {},
   "outputs": [],
   "source": [
    "test['Type_of_Cab'] = test['Type_of_Cab'].map({'A':0,'B':1,'C':2,'D':3,'E':4})\n",
    "test['Confidence_Life_Style_Index'] = test['Confidence_Life_Style_Index'].map({'A':0,'B':1,'C':2})\n",
    "test['Destination_Type'] = test['Destination_Type'].map({'A':0,'B':1,'C':2,'D':3,'E':4,'F':5,'G':6,'H':7,'I':8,'J':9,'K':10,'L':11,'M':12,'N':13})\n",
    "test['Gender'] = test['Gender'].map({'Male':1,'Female':0})"
   ]
  },
  {
   "cell_type": "code",
   "execution_count": 155,
   "metadata": {},
   "outputs": [],
   "source": [
    "test['Customer_Since_Months']=test['Customer_Since_Months'].fillna(6.0)\n",
    "test['Type_of_Cab']=test['Type_of_Cab'].fillna(1.7)\n",
    "test['Confidence_Life_Style_Index']=test['Confidence_Life_Style_Index'].fillna(1)\n",
    "\n",
    "\n"
   ]
  },
  {
   "cell_type": "code",
   "execution_count": 157,
   "metadata": {},
   "outputs": [
    {
     "name": "stderr",
     "output_type": "stream",
     "text": [
      "C:\\Users\\jarvis\\anaconda3\\lib\\site-packages\\ipykernel_launcher.py:2: SettingWithCopyWarning: \n",
      "A value is trying to be set on a copy of a slice from a DataFrame\n",
      "\n",
      "See the caveats in the documentation: https://pandas.pydata.org/pandas-docs/stable/user_guide/indexing.html#returning-a-view-versus-a-copy\n",
      "  \n"
     ]
    }
   ],
   "source": [
    "x=np.random.normal(2.8,0.23,13327)\n",
    "test['Life_Style_Index'][test['Life_Style_Index'].isnull()]=x"
   ]
  },
  {
   "cell_type": "code",
   "execution_count": 158,
   "metadata": {},
   "outputs": [
    {
     "data": {
      "text/plain": [
       "<matplotlib.axes._subplots.AxesSubplot at 0x1db4c4a9108>"
      ]
     },
     "execution_count": 158,
     "metadata": {},
     "output_type": "execute_result"
    },
    {
     "data": {
      "image/png": "[encoded data removed]",
      "text/plain": [
       "<Figure size 432x288 with 1 Axes>"
      ]
     },
     "metadata": {
      "needs_background": "light"
     },
     "output_type": "display_data"
    }
   ],
   "source": [
    "sns.distplot(test['Var1'])"
   ]
  },
  {
   "cell_type": "code",
   "execution_count": 159,
   "metadata": {},
   "outputs": [
    {
     "data": {
      "text/plain": [
       "count    40606.000000\n",
       "mean        63.936610\n",
       "std         21.636247\n",
       "min         30.000000\n",
       "25%         45.000000\n",
       "50%         61.000000\n",
       "75%         79.000000\n",
       "max        178.000000\n",
       "Name: Var1, dtype: float64"
      ]
     },
     "execution_count": 159,
     "metadata": {},
     "output_type": "execute_result"
    }
   ],
   "source": [
    "test['Var1'].describe()"
   ]
  },
  {
   "cell_type": "code",
   "execution_count": 160,
   "metadata": {},
   "outputs": [
    {
     "name": "stderr",
     "output_type": "stream",
     "text": [
      "C:\\Users\\jarvis\\anaconda3\\lib\\site-packages\\ipykernel_launcher.py:2: SettingWithCopyWarning: \n",
      "A value is trying to be set on a copy of a slice from a DataFrame\n",
      "\n",
      "See the caveats in the documentation: https://pandas.pydata.org/pandas-docs/stable/user_guide/indexing.html#returning-a-view-versus-a-copy\n",
      "  \n"
     ]
    }
   ],
   "source": [
    "x=np.random.randint(30,179,(46789,))\n",
    "test['Var1'][test['Var1'].isnull()]=x"
   ]
  },
  {
   "cell_type": "code",
   "execution_count": 161,
   "metadata": {},
   "outputs": [],
   "source": [
    "test=test.drop(columns=['Trip_ID'])"
   ]
  },
  {
   "cell_type": "code",
   "execution_count": 162,
   "metadata": {},
   "outputs": [],
   "source": [
    "test['Life_Style_Index']=np.log(test['Life_Style_Index'])"
   ]
  },
  {
   "cell_type": "code",
   "execution_count": 163,
   "metadata": {
    "colab": {},
    "colab_type": "code",
    "id": "Bz1ntEi2oKmd"
   },
   "outputs": [],
   "source": [
    "test['Var1']=np.log(test['Var1'])\n",
    "test['Var2']=np.log(test['Var2'])\n",
    "test['Var3']=np.log(test['Var3'])"
   ]
  },
  {
   "cell_type": "code",
   "execution_count": 164,
   "metadata": {},
   "outputs": [],
   "source": [
    "# use lightgbm classifier\n",
    "from lightgbm import LGBMClassifier\n"
   ]
  },
  {
   "cell_type": "code",
   "execution_count": 167,
   "metadata": {},
   "outputs": [
    {
     "data": {
      "text/plain": [
       "LGBMClassifier(bagging_fraction=0.98, bagging_freq=125,\n",
       "               boost_from_average=False, boosting_type='gbdt',\n",
       "               class_weight=None, colsample_bytree=1.0, feature_fraction=0.5,\n",
       "               importance_type='split', learning_rate=0.005, max_depth=-1,\n",
       "               metric='multi_logloss', min_child_samples=20,\n",
       "               min_child_weight=0.001, min_data_in_leaf=80, min_split_gain=0.0,\n",
       "               min_sum_hessian_in_leaf=16.0, n_estimators=200, n_jobs=-1,\n",
       "               num_class=3, num_leaves=40, num_threads=8,\n",
       "               objective='multiclass', random_state=None, reg_alpha=0.0,\n",
       "               reg_lambda=0.0, silent=True, subsample=1.0,\n",
       "               subsample_for_bin=200000, subsample_freq=0,\n",
       "               tree_learner='serial', ...)"
      ]
     },
     "execution_count": 167,
     "metadata": {},
     "output_type": "execute_result"
    }
   ],
   "source": [
    "model = LGBMClassifier(bagging_freq= 125,bagging_fraction=0.98,boost_from_average=False,\n",
    "                       boosting_type='gbdt',feature_fraction= 0.5,learning_rate=0.005,max_depth= -1,\n",
    "                       min_data_in_leaf= 80,min_sum_hessian_in_leaf= 16.0,num_leaves=40,num_threads= 8,\n",
    "                       tree_learner= 'serial',objective= 'multiclass',num_class= 3,verbosity= 1,n_jobs=-1,\n",
    "                       metric = \"multi_logloss\",n_estimators=200,)\n",
    "model.fit(train,targets)"
   ]
  },
  {
   "cell_type": "code",
   "execution_count": 168,
   "metadata": {
    "colab": {},
    "colab_type": "code",
    "id": "LdT7DXTBoKnK",
    "outputId": "ed58d506-d528-4478-dfc2-1fd6818fd71d"
   },
   "outputs": [
    {
     "data": {
      "text/plain": [
       "0.6937385169907478"
      ]
     },
     "execution_count": 168,
     "metadata": {},
     "output_type": "execute_result"
    }
   ],
   "source": [
    "from sklearn.model_selection import cross_val_score\n",
    "\n",
    "def compute_score(clf, X, y, scoring='accuracy'):\n",
    "    xval = cross_val_score(clf, X, y, cv = 5, scoring=scoring)\n",
    "    return np.mean(xval)\n",
    "compute_score(model, train, targets, scoring='accuracy')"
   ]
  },
  {
   "cell_type": "code",
   "execution_count": 171,
   "metadata": {},
   "outputs": [
    {
     "data": {
      "text/plain": [
       "array([1, 2, 3], dtype=int64)"
      ]
     },
     "execution_count": 171,
     "metadata": {},
     "output_type": "execute_result"
    }
   ],
   "source": [
    "output1=model.predict(test)\n",
    "np.unique(output1)"
   ]
  },
  {
   "cell_type": "code",
   "execution_count": 294,
   "metadata": {
    "colab": {},
    "colab_type": "code",
    "id": "RHd_rZIsoKnU"
   },
   "outputs": [],
   "source": [
    "# to get submission csv file\n",
    "sub=pd.read_csv(f'{getcwd()}/sample_submission_NoPBkjr.csv',index_col='Trip_ID')\n",
    "sub['Surge_Pricing_Type']=output1\n",
    "sol=sub.to_csv('sol101.csv')"
   ]
  }
 ],
 "metadata": {
  "accelerator": "GPU",
  "colab": {
   "name": "844_892811_cf_jantahack.ipynb",
   "provenance": []
  },
  "kernelspec": {
   "display_name": "Python 3",
   "language": "python",
   "name": "python3"
  },
  "language_info": {
   "codemirror_mode": {
    "name": "ipython",
    "version": 3
   },
   "file_extension": ".py",
   "mimetype": "text/x-python",
   "name": "python",
   "nbconvert_exporter": "python",
   "pygments_lexer": "ipython3",
   "version": "3.7.6"
  }
 },
 "nbformat": 4,
 "nbformat_minor": 1
}
